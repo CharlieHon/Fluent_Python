{
 "cells": [
  {
   "cell_type": "markdown",
   "metadata": {},
   "source": [
    "## 内置序列类型概览\n",
    "\n",
    "Python标准库用C实现了丰富的序列类型，列举如下：。\n",
    "\n",
    "1. 容器序列\n",
    "   - list, tuple和collections.deque这些序列能存放不同类型的数据。\n",
    "2. 扁平序列\n",
    "   - str, bytes, btearray, memoryview和array.array，这些序列只能容纳一种类型。\n",
    "\n",
    "> **容器序列存放的是它们所包含的任意类型的对象的引用**，而**扁平序列存放的是值而不是引用，即扁平序列其实是一段连续的内存空间**。索引扁平序列更加紧凑，但是它里面只能存放字符、字节和数值这种基础类型。\n",
    "\n",
    "序列还能按照能否被修改来分类。\n",
    "\n",
    "1. 可变序列\n",
    "   - list, bytearray, array.array, collections.deque和memoryview\n",
    "2. 可变序列\n",
    "   - tuple, str和bytes\n",
    "\n",
    "\n",
    "\n",
    "## 列表推导式\n",
    "\n",
    "列表(list)是一个可变序列，并且能同时存放不同类型的元素。列表推导式(list comprehension)是一种构建列表的方法，它异常强大。\n",
    "\n",
    "列表推导式的作用只有一个：**生成列表**。"
   ]
  },
  {
   "cell_type": "code",
   "execution_count": 1,
   "metadata": {},
   "outputs": [
    {
     "data": {
      "text/plain": [
       "[945, 946, 950, 928]"
      ]
     },
     "execution_count": 1,
     "metadata": {},
     "output_type": "execute_result"
    }
   ],
   "source": [
    "# ex2-1 把一个字符串编程Unicode码位的列表\n",
    "symbols = 'αβζΠ'\n",
    "codes = []\n",
    "for symbol in symbols:\n",
    "    codes.append(ord(symbol))\n",
    "codes"
   ]
  },
  {
   "cell_type": "code",
   "execution_count": 2,
   "metadata": {},
   "outputs": [
    {
     "data": {
      "text/plain": [
       "[945, 946, 950, 928]"
      ]
     },
     "execution_count": 2,
     "metadata": {},
     "output_type": "execute_result"
    }
   ],
   "source": [
    "# ex2-2 列表推导式写法\n",
    "symbols = 'αβζΠ'\n",
    "codes = [ord(symbol) for symbol in symbols]\n",
    "codes"
   ]
  },
  {
   "cell_type": "code",
   "execution_count": 3,
   "metadata": {},
   "outputs": [
    {
     "data": {
      "text/plain": [
       "[946, 950]"
      ]
     },
     "execution_count": 3,
     "metadata": {},
     "output_type": "execute_result"
    }
   ],
   "source": [
    "# ex2-3 列表推导式和filter/map比较\n",
    "symbols = 'αβζΠ'\n",
    "beyond_ascii = [ord(s) for s in symbols if ord(s) > 945]\n",
    "beyond_ascii"
   ]
  },
  {
   "cell_type": "code",
   "execution_count": 7,
   "metadata": {},
   "outputs": [
    {
     "data": {
      "text/plain": [
       "[946, 950]"
      ]
     },
     "execution_count": 7,
     "metadata": {},
     "output_type": "execute_result"
    }
   ],
   "source": [
    "# beyond_ascii = list(filter(lambda c: ord(c)>945, symbols))  # ['β', 'ζ']\n",
    "beyond_ascii = list(filter(lambda x: x>945, map(ord, symbols)))\n",
    "beyond_ascii"
   ]
  },
  {
   "cell_type": "code",
   "execution_count": 8,
   "metadata": {},
   "outputs": [
    {
     "data": {
      "text/plain": [
       "[('black', 'S'),\n",
       " ('black', 'M'),\n",
       " ('black', 'L'),\n",
       " ('white', 'S'),\n",
       " ('white', 'M'),\n",
       " ('white', 'L')]"
      ]
     },
     "execution_count": 8,
     "metadata": {},
     "output_type": "execute_result"
    }
   ],
   "source": [
    "# ex2-4 使用列表推导式计算笛卡尔积\n",
    "colors = ['black', 'white']\n",
    "sizes = ['S', 'M', 'L']\n",
    "tshirts = [(color, size) for color in colors for size in sizes]\n",
    "tshirts"
   ]
  },
  {
   "cell_type": "markdown",
   "metadata": {},
   "source": [
    "## 生成器表达式(generator expressions)\n",
    "\n",
    "生成器表达式遵守了迭代器协议，可以逐个产出元素，而不是先建立一个完整的列表，然后再把这个列表传递到某个构造函数里。\n",
    "\n",
    "生成器表达式的语法跟列表推导差不多，只不过把方括号换成圆括号而已。"
   ]
  },
  {
   "cell_type": "code",
   "execution_count": 20,
   "metadata": {},
   "outputs": [
    {
     "data": {
      "text/plain": [
       "(945, 946, 950, 928)"
      ]
     },
     "execution_count": 20,
     "metadata": {},
     "output_type": "execute_result"
    }
   ],
   "source": [
    "# ex2-5 用生成器表达式初始化元组和数组\n",
    "symbols = 'αβζΠ'\n",
    "tuple(ord(symbol) for symbol in symbols)    # 当生成器表达式是一个函数的唯一参数时，不需要额外再用括号把它围起来"
   ]
  },
  {
   "cell_type": "code",
   "execution_count": 21,
   "metadata": {},
   "outputs": [
    {
     "data": {
      "text/plain": [
       "array('I', [945, 946, 950, 928])"
      ]
     },
     "execution_count": 21,
     "metadata": {},
     "output_type": "execute_result"
    }
   ],
   "source": [
    "import array\n",
    "array.array('I', (ord(symbol) for symbol in symbols))   # array构造方法需要两个参数，所以括号时必须的，第一个参数指定了数组中数字的存储方式。"
   ]
  },
  {
   "cell_type": "code",
   "execution_count": 22,
   "metadata": {},
   "outputs": [
    {
     "name": "stdout",
     "output_type": "stream",
     "text": [
      "black S\n",
      "black M\n",
      "black L\n",
      "white S\n",
      "white M\n",
      "white L\n"
     ]
    }
   ],
   "source": [
    "# 生成器表达式会逐个产生元素\n",
    "colors = ['black', 'white']\n",
    "sizes = ['S', 'M', 'L']\n",
    "for tshirt in (f'{c} {s}' for c in colors for s in sizes):\n",
    "    print(tshirt)"
   ]
  }
 ],
 "metadata": {
  "kernelspec": {
   "display_name": "Python 3.8.8 ('base')",
   "language": "python",
   "name": "python3"
  },
  "language_info": {
   "codemirror_mode": {
    "name": "ipython",
    "version": 3
   },
   "file_extension": ".py",
   "mimetype": "text/x-python",
   "name": "python",
   "nbconvert_exporter": "python",
   "pygments_lexer": "ipython3",
   "version": "3.8.8"
  },
  "orig_nbformat": 4,
  "vscode": {
   "interpreter": {
    "hash": "8967b6ecdc3a387f4ee01c8c6ec3fd3c2fc0d54335c2d6cf895885a0f9327229"
   }
  }
 },
 "nbformat": 4,
 "nbformat_minor": 2
}
